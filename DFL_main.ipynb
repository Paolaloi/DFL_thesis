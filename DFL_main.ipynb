{
 "cells": [
  {
   "metadata": {},
   "cell_type": "markdown",
   "source": "# Decision-Focused Learning ",
   "id": "cd8521bd21a3d78f"
  },
  {
   "metadata": {},
   "cell_type": "markdown",
   "source": "### Library import",
   "id": "9fd944e417a13e1a"
  },
  {
   "metadata": {
    "ExecuteTime": {
     "end_time": "2025-10-15T18:09:25.394804Z",
     "start_time": "2025-10-15T18:08:32.474597Z"
    }
   },
   "cell_type": "code",
   "source": [
    "import os, random, numpy as np, pandas as pd, torch, cvxpy as cp, matplotlib.pyplot as plt\n",
    "from tqdm import tqdm\n",
    "SEED = 42\n",
    "torch.manual_seed(SEED)\n",
    "np.random.seed(SEED)\n",
    "random.seed(SEED)"
   ],
   "id": "eed39732e1fd0deb",
   "outputs": [],
   "execution_count": 1
  },
  {
   "metadata": {},
   "cell_type": "code",
   "outputs": [],
   "execution_count": null,
   "source": "",
   "id": "e2a99d1a1c3a3805"
  }
 ],
 "metadata": {
  "kernelspec": {
   "display_name": "Python 3",
   "language": "python",
   "name": "python3"
  },
  "language_info": {
   "codemirror_mode": {
    "name": "ipython",
    "version": 2
   },
   "file_extension": ".py",
   "mimetype": "text/x-python",
   "name": "python",
   "nbconvert_exporter": "python",
   "pygments_lexer": "ipython2",
   "version": "2.7.6"
  }
 },
 "nbformat": 4,
 "nbformat_minor": 5
}
