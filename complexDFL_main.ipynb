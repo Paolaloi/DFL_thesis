{
 "cells": [
  {
   "metadata": {
    "ExecuteTime": {
     "end_time": "2025-10-25T18:54:04.832728Z",
     "start_time": "2025-10-25T18:54:04.685531Z"
    }
   },
   "cell_type": "code",
   "source": "%pip install -q \"numpy<2\" pandas==2.2.2 scikit-learn==1.4.2 cvxpy==1.4.2 diffcp>=1.0.15 cvxpylayers==0.1.6 torch --upgrade\n",
   "id": "6336ec068386661d",
   "outputs": [
    {
     "name": "stdout",
     "output_type": "stream",
     "text": [
      "zsh:1: 1.0.15 not found\r\n",
      "Note: you may need to restart the kernel to use updated packages.\n"
     ]
    }
   ],
   "execution_count": 1
  },
  {
   "cell_type": "code",
   "id": "initial_id",
   "metadata": {
    "collapsed": true,
    "ExecuteTime": {
     "end_time": "2025-10-25T18:54:06.827838Z",
     "start_time": "2025-10-25T18:54:04.842851Z"
    }
   },
   "source": [
    "import os, random, numpy as np, pandas as pd, torch\n",
    "from sklearn.preprocessing import StandardScaler\n",
    "from sklearn.linear_model import RidgeCV\n",
    "import torch\n",
    "import torch.nn as nn\n",
    "from tqdm import tqdm\n",
    "import torch.optim as optim\n",
    "from cvxpylayers.torch import CvxpyLayer\n",
    "import matplotlib.pyplot as plt\n",
    "import seaborn as sns\n",
    "\n",
    "SEED = 42\n",
    "random.seed(SEED); np.random.seed(SEED); torch.manual_seed(SEED)\n",
    "\n",
    "os.makedirs(\"data/m5\", exist_ok=True)"
   ],
   "outputs": [],
   "execution_count": 2
  },
  {
   "metadata": {},
   "cell_type": "markdown",
   "source": [
    "### Dataset Description\n",
    "\n",
    "The M5 Forecasting dataset (Walmart) provides daily sales data for over 3,000 products across 10 stores in California, Texas, and Wisconsin.  \n",
    "It includes three main tables:  \n",
    "- **sales_train_validation.csv** – daily unit sales per SKU–store (≈5 years of data);  \n",
    "- **calendar.csv** – mapping of day indices to actual dates, including events and SNAP activity;  \n",
    "- **sell_prices.csv** – weekly selling prices per item and store.  \n",
    "\n",
    "This dataset enables a realistic **Predict–Optimize** setup: forecasting product demand, linking it with weekly prices, and embedding economic constraints (budget, asymmetric costs) into a **differentiable newsvendor problem**.  \n",
    "It captures real retail dynamics such as seasonality, promotions, and price variation, making it ideal for evaluating **Decision-Focused Learning (DFL)** versus traditional **Predict-then-Optimize (PtO)** approaches."
   ],
   "id": "178c4285fc4888c2"
  },
  {
   "metadata": {
    "ExecuteTime": {
     "end_time": "2025-10-25T18:54:11.793954Z",
     "start_time": "2025-10-25T18:54:06.932906Z"
    }
   },
   "cell_type": "code",
   "source": [
    "base_path = \"data/m5\"\n",
    "\n",
    "sales_fp  = os.path.join(base_path, \"sales_train_validation.csv\")\n",
    "cal_fp    = os.path.join(base_path, \"calendar.csv\")\n",
    "prices_fp = os.path.join(base_path, \"sell_prices.csv\")\n",
    "\n",
    "sales  = pd.read_csv(sales_fp)\n",
    "cal    = pd.read_csv(cal_fp)\n",
    "prices = pd.read_csv(prices_fp)\n",
    "\n",
    "print(\"Sales:\",  sales.shape)\n",
    "print(\"Calendar:\", cal.shape)\n",
    "print(\"Sell prices:\", prices.shape)"
   ],
   "id": "43045e17e5c38145",
   "outputs": [
    {
     "name": "stdout",
     "output_type": "stream",
     "text": [
      "Sales: (30490, 1919)\n",
      "Calendar: (1969, 14)\n",
      "Sell prices: (6841121, 4)\n"
     ]
    }
   ],
   "execution_count": 3
  },
  {
   "metadata": {},
   "cell_type": "markdown",
   "source": [
    "### Data Cleaning and Integration\n",
    "\n",
    "This block filters, reshapes, and merges the three M5 data sources  \n",
    "(`sales_train_validation`, `calendar`, and `sell_prices`) into a unified daily panel  \n",
    "indexed by (store_id, item_id, date).  \n",
    "\n",
    "It performs:  \n",
    "- selection by state/store and sampling of N items per store;  \n",
    "- reshaping sales data from wide to long format;  \n",
    "- merging calendar and price information;  \n",
    "- forward/backward price imputation and 99th-percentile winsorization;  \n",
    "- creation of event and SNAP indicators;  \n",
    "- final typing and selection of key variables.  \n",
    "\n",
    "The resulting dataset `panel_clean` is a clean and memory-efficient  \n",
    "daily SKU–store–date panel used for feature construction and decision modeling."
   ],
   "id": "8a031b0f26813c60"
  },
  {
   "metadata": {
    "ExecuteTime": {
     "end_time": "2025-10-25T18:54:17.014774Z",
     "start_time": "2025-10-25T18:54:11.861491Z"
    }
   },
   "cell_type": "code",
   "source": [
    "STATE_KEEP = [\"CA\"]           \n",
    "STORES_KEEP = None            \n",
    "N_ITEMS_PER_STORE = 100\n",
    "\n",
    "cal_cols = [\"d\",\"date\",\"wm_yr_wk\",\"wday\",\"month\",\n",
    "            \"event_name_1\",\"event_type_1\",\"event_name_2\",\"event_type_2\",\n",
    "            \"snap_CA\",\"snap_TX\",\"snap_WI\"]\n",
    "cal = cal[cal_cols].copy()\n",
    "cal[\"date\"] = pd.to_datetime(cal[\"date\"])\n",
    "\n",
    "sales_f = sales.loc[sales[\"state_id\"].isin(STATE_KEEP)].copy()\n",
    "if STORES_KEEP is not None:\n",
    "    sales_f = sales_f.loc[sales_f[\"store_id\"].isin(STORES_KEEP)].copy()\n",
    "if N_ITEMS_PER_STORE is not None:\n",
    "    items_keep = (\n",
    "        sales_f[[\"store_id\",\"item_id\"]]\n",
    "        .drop_duplicates()\n",
    "        .groupby(\"store_id\", as_index=False)\n",
    "        .head(N_ITEMS_PER_STORE)\n",
    "    )\n",
    "    sales_f = sales_f.merge(items_keep, on=[\"store_id\",\"item_id\"], how=\"inner\")\n",
    "\n",
    "id_cols = [c for c in sales_f.columns if not c.startswith(\"d_\")]\n",
    "d_cols  = [c for c in sales_f.columns if c.startswith(\"d_\")]\n",
    "\n",
    "sales_long = sales_f.melt(id_vars=id_cols, value_vars=d_cols,\n",
    "                          var_name=\"d\", value_name=\"qty\")\n",
    "\n",
    "panel = sales_long.merge(cal, on=\"d\", how=\"left\", validate=\"m:1\")\n",
    "\n",
    "prices_f = prices.rename(columns={\"sell_price\":\"price\"}).copy()\n",
    "items_stores = panel[[\"item_id\",\"store_id\"]].drop_duplicates()\n",
    "weeks_keep   = panel[\"wm_yr_wk\"].drop_duplicates()\n",
    "prices_f = prices_f.merge(items_stores, on=[\"store_id\",\"item_id\"], how=\"inner\")\n",
    "prices_f = prices_f[prices_f[\"wm_yr_wk\"].isin(weeks_keep)]\n",
    "\n",
    "panel = panel.merge(\n",
    "    prices_f,\n",
    "    on=[\"store_id\",\"item_id\",\"wm_yr_wk\"],\n",
    "    how=\"left\",\n",
    "    validate=\"m:1\"\n",
    ")\n",
    "\n",
    "panel = panel.sort_values([\"store_id\",\"item_id\",\"date\"], kind=\"mergesort\").reset_index(drop=True)\n",
    "panel[\"qty\"] = panel[\"qty\"].clip(lower=0)\n",
    "panel[\"price\"] = (\n",
    "    panel.groupby([\"store_id\",\"item_id\"], sort=False)[\"price\"]\n",
    "         .transform(lambda s: s.ffill().bfill())\n",
    ")\n",
    "\n",
    "q99_qty = panel.groupby([\"store_id\",\"item_id\"], sort=False)[\"qty\"].transform(lambda s: s.quantile(0.99))\n",
    "panel[\"qty\"] = np.minimum(panel[\"qty\"].to_numpy(), q99_qty.fillna(np.inf).to_numpy())\n",
    "\n",
    "q99_prc = panel.groupby([\"store_id\",\"item_id\"], sort=False)[\"price\"].transform(lambda s: s.quantile(0.99))\n",
    "panel[\"price\"] = np.minimum(panel[\"price\"].to_numpy(), q99_prc.fillna(np.inf).to_numpy())\n",
    "\n",
    "for col in [\"event_name_1\",\"event_type_1\",\"event_name_2\",\"event_type_2\"]:\n",
    "    panel[col] = panel[col].fillna(\"none\")\n",
    "\n",
    "panel[\"is_event\"] = ((panel[\"event_name_1\"]!=\"none\") | (panel[\"event_name_2\"]!=\"none\")).astype(\"int8\")\n",
    "\n",
    "snap_map = {\n",
    "    \"CA\": panel[\"snap_CA\"].fillna(0).astype(\"int8\"),\n",
    "    \"TX\": panel[\"snap_TX\"].fillna(0).astype(\"int8\"),\n",
    "    \"WI\": panel[\"snap_WI\"].fillna(0).astype(\"int8\"),\n",
    "}\n",
    "panel[\"snap\"] = 0\n",
    "for st, svec in snap_map.items():\n",
    "    panel.loc[panel[\"state_id\"].eq(st), \"snap\"] = svec[panel[\"state_id\"].eq(st)].values\n",
    "panel[\"snap\"] = panel[\"snap\"].fillna(0).astype(\"int8\")\n",
    "\n",
    "for c in [\"id\",\"item_id\",\"dept_id\",\"cat_id\",\"store_id\",\"state_id\"]:\n",
    "    panel[c] = panel[c].astype(\"category\")\n",
    "\n",
    "panel_clean = panel[[\n",
    "    \"id\",\"item_id\",\"dept_id\",\"cat_id\",\"store_id\",\"state_id\",\n",
    "    \"date\",\"qty\",\"price\",\"wday\",\"month\",\"is_event\",\"snap\"\n",
    "]].copy()\n",
    "\n",
    "print(\"Panel pulito:\", panel_clean.shape)\n",
    "print(panel_clean.groupby(\"store_id\")[\"item_id\"].nunique().head())\n",
    "panel_clean.head()"
   ],
   "id": "e26bdbaa2d1ea346",
   "outputs": [
    {
     "name": "stdout",
     "output_type": "stream",
     "text": [
      "Panel pulito: (765200, 13)\n",
      "store_id\n",
      "CA_1    100\n",
      "CA_2    100\n",
      "CA_3    100\n",
      "CA_4    100\n",
      "Name: item_id, dtype: int64\n"
     ]
    },
    {
     "name": "stderr",
     "output_type": "stream",
     "text": [
      "/var/folders/79/gjvh3lfx6h158dr9jn_frbx00000gn/T/ipykernel_60302/1669035791.py:81: FutureWarning: The default of observed=False is deprecated and will be changed to True in a future version of pandas. Pass observed=False to retain current behavior or observed=True to adopt the future default and silence this warning.\n",
      "  print(panel_clean.groupby(\"store_id\")[\"item_id\"].nunique().head())\n"
     ]
    },
    {
     "data": {
      "text/plain": [
       "                              id        item_id    dept_id   cat_id store_id  \\\n",
       "0  HOBBIES_1_001_CA_1_validation  HOBBIES_1_001  HOBBIES_1  HOBBIES     CA_1   \n",
       "1  HOBBIES_1_001_CA_1_validation  HOBBIES_1_001  HOBBIES_1  HOBBIES     CA_1   \n",
       "2  HOBBIES_1_001_CA_1_validation  HOBBIES_1_001  HOBBIES_1  HOBBIES     CA_1   \n",
       "3  HOBBIES_1_001_CA_1_validation  HOBBIES_1_001  HOBBIES_1  HOBBIES     CA_1   \n",
       "4  HOBBIES_1_001_CA_1_validation  HOBBIES_1_001  HOBBIES_1  HOBBIES     CA_1   \n",
       "\n",
       "  state_id       date  qty  price  wday  month  is_event  snap  \n",
       "0       CA 2011-01-29  0.0   9.58     1      1         0     0  \n",
       "1       CA 2011-01-30  0.0   9.58     2      1         0     0  \n",
       "2       CA 2011-01-31  0.0   9.58     3      1         0     0  \n",
       "3       CA 2011-02-01  0.0   9.58     4      2         0     1  \n",
       "4       CA 2011-02-02  0.0   9.58     5      2         0     1  "
      ],
      "text/html": [
       "<div>\n",
       "<style scoped>\n",
       "    .dataframe tbody tr th:only-of-type {\n",
       "        vertical-align: middle;\n",
       "    }\n",
       "\n",
       "    .dataframe tbody tr th {\n",
       "        vertical-align: top;\n",
       "    }\n",
       "\n",
       "    .dataframe thead th {\n",
       "        text-align: right;\n",
       "    }\n",
       "</style>\n",
       "<table border=\"1\" class=\"dataframe\">\n",
       "  <thead>\n",
       "    <tr style=\"text-align: right;\">\n",
       "      <th></th>\n",
       "      <th>id</th>\n",
       "      <th>item_id</th>\n",
       "      <th>dept_id</th>\n",
       "      <th>cat_id</th>\n",
       "      <th>store_id</th>\n",
       "      <th>state_id</th>\n",
       "      <th>date</th>\n",
       "      <th>qty</th>\n",
       "      <th>price</th>\n",
       "      <th>wday</th>\n",
       "      <th>month</th>\n",
       "      <th>is_event</th>\n",
       "      <th>snap</th>\n",
       "    </tr>\n",
       "  </thead>\n",
       "  <tbody>\n",
       "    <tr>\n",
       "      <th>0</th>\n",
       "      <td>HOBBIES_1_001_CA_1_validation</td>\n",
       "      <td>HOBBIES_1_001</td>\n",
       "      <td>HOBBIES_1</td>\n",
       "      <td>HOBBIES</td>\n",
       "      <td>CA_1</td>\n",
       "      <td>CA</td>\n",
       "      <td>2011-01-29</td>\n",
       "      <td>0.0</td>\n",
       "      <td>9.58</td>\n",
       "      <td>1</td>\n",
       "      <td>1</td>\n",
       "      <td>0</td>\n",
       "      <td>0</td>\n",
       "    </tr>\n",
       "    <tr>\n",
       "      <th>1</th>\n",
       "      <td>HOBBIES_1_001_CA_1_validation</td>\n",
       "      <td>HOBBIES_1_001</td>\n",
       "      <td>HOBBIES_1</td>\n",
       "      <td>HOBBIES</td>\n",
       "      <td>CA_1</td>\n",
       "      <td>CA</td>\n",
       "      <td>2011-01-30</td>\n",
       "      <td>0.0</td>\n",
       "      <td>9.58</td>\n",
       "      <td>2</td>\n",
       "      <td>1</td>\n",
       "      <td>0</td>\n",
       "      <td>0</td>\n",
       "    </tr>\n",
       "    <tr>\n",
       "      <th>2</th>\n",
       "      <td>HOBBIES_1_001_CA_1_validation</td>\n",
       "      <td>HOBBIES_1_001</td>\n",
       "      <td>HOBBIES_1</td>\n",
       "      <td>HOBBIES</td>\n",
       "      <td>CA_1</td>\n",
       "      <td>CA</td>\n",
       "      <td>2011-01-31</td>\n",
       "      <td>0.0</td>\n",
       "      <td>9.58</td>\n",
       "      <td>3</td>\n",
       "      <td>1</td>\n",
       "      <td>0</td>\n",
       "      <td>0</td>\n",
       "    </tr>\n",
       "    <tr>\n",
       "      <th>3</th>\n",
       "      <td>HOBBIES_1_001_CA_1_validation</td>\n",
       "      <td>HOBBIES_1_001</td>\n",
       "      <td>HOBBIES_1</td>\n",
       "      <td>HOBBIES</td>\n",
       "      <td>CA_1</td>\n",
       "      <td>CA</td>\n",
       "      <td>2011-02-01</td>\n",
       "      <td>0.0</td>\n",
       "      <td>9.58</td>\n",
       "      <td>4</td>\n",
       "      <td>2</td>\n",
       "      <td>0</td>\n",
       "      <td>1</td>\n",
       "    </tr>\n",
       "    <tr>\n",
       "      <th>4</th>\n",
       "      <td>HOBBIES_1_001_CA_1_validation</td>\n",
       "      <td>HOBBIES_1_001</td>\n",
       "      <td>HOBBIES_1</td>\n",
       "      <td>HOBBIES</td>\n",
       "      <td>CA_1</td>\n",
       "      <td>CA</td>\n",
       "      <td>2011-02-02</td>\n",
       "      <td>0.0</td>\n",
       "      <td>9.58</td>\n",
       "      <td>5</td>\n",
       "      <td>2</td>\n",
       "      <td>0</td>\n",
       "      <td>1</td>\n",
       "    </tr>\n",
       "  </tbody>\n",
       "</table>\n",
       "</div>"
      ]
     },
     "execution_count": 4,
     "metadata": {},
     "output_type": "execute_result"
    }
   ],
   "execution_count": 4
  },
  {
   "metadata": {},
   "cell_type": "markdown",
   "source": [
    "### Feature Engineering for Demand Forecasting\n",
    "\n",
    "This function builds autoregressive and contextual features from the cleaned M5 panel.  \n",
    "For each (store, item, date), it computes:\n",
    "- lagged sales (1, 7, 14, 28 days) capturing short- and medium-term dependencies;\n",
    "- rolling means and standard deviations (7–28 days) for trend and volatility;\n",
    "- categorical dummies for day-of-week and month seasonality;\n",
    "- economic and exogenous factors (price, event, SNAP);\n",
    "- a future target `y` (sales shifted by `horizon` days).\n",
    "\n",
    "The resulting `X` and `y` form the supervised forecasting dataset  \n",
    "used both by the PtO and DFL models as input to predict demand."
   ],
   "id": "ab08b7a3397a0f8f"
  },
  {
   "metadata": {
    "ExecuteTime": {
     "end_time": "2025-10-25T18:54:17.492561Z",
     "start_time": "2025-10-25T18:54:17.486035Z"
    }
   },
   "cell_type": "code",
   "source": [
    "def make_forecasting_features(panel, lags=[1,7,14,28], windows=[7,14,28], horizon=1):\n",
    "    df = panel.copy()\n",
    "    df = df.sort_values([\"store_id\", \"item_id\", \"date\"]).reset_index(drop=True)\n",
    "\n",
    "    for lag in lags:\n",
    "        df[f\"lag_{lag}\"] = (\n",
    "            df.groupby([\"store_id\", \"item_id\"], sort=False)[\"qty\"]\n",
    "              .shift(lag)\n",
    "              .astype(\"float32\")\n",
    "        )\n",
    "\n",
    "    for w in windows:\n",
    "        df[f\"rmean_{w}\"] = (\n",
    "            df.groupby([\"store_id\", \"item_id\"], sort=False)[\"qty\"]\n",
    "              .shift(1)  # evita leakage\n",
    "              .rolling(window=w, min_periods=1)\n",
    "              .mean()\n",
    "              .astype(\"float32\")\n",
    "        )\n",
    "        df[f\"rstd_{w}\"] = (\n",
    "            df.groupby([\"store_id\", \"item_id\"], sort=False)[\"qty\"]\n",
    "              .shift(1)\n",
    "              .rolling(window=w, min_periods=1)\n",
    "              .std()\n",
    "              .fillna(0)\n",
    "              .astype(\"float32\")\n",
    "        )\n",
    "\n",
    "    dow_dummies = pd.get_dummies(df[\"wday\"], prefix=\"dow\", dtype=\"int8\")\n",
    "    month_dummies = pd.get_dummies(df[\"month\"], prefix=\"month\", dtype=\"int8\")\n",
    "    df = pd.concat([df, dow_dummies, month_dummies], axis=1)\n",
    "\n",
    "    df[\"y\"] = (\n",
    "        df.groupby([\"store_id\", \"item_id\"], sort=False)[\"qty\"]\n",
    "          .shift(-horizon)\n",
    "          .astype(\"float32\")\n",
    "    )\n",
    "\n",
    "    df = df.dropna(subset=[f\"lag_{max(lags)}\", \"y\"]).reset_index(drop=True)\n",
    "\n",
    "    feature_cols = (\n",
    "        [f\"lag_{l}\" for l in lags]\n",
    "        + [f\"rmean_{w}\" for w in windows]\n",
    "        + [f\"rstd_{w}\" for w in windows]\n",
    "        + [\"price\", \"is_event\", \"snap\"]\n",
    "        + [c for c in df.columns if c.startswith(\"dow_\") or c.startswith(\"month_\")]\n",
    "    )\n",
    "\n",
    "    X = df[[\"store_id\", \"item_id\", \"date\"] + feature_cols].copy()\n",
    "    y = df[\"y\"].copy()\n",
    "\n",
    "    return X, y"
   ],
   "id": "df016700c4060b54",
   "outputs": [],
   "execution_count": 5
  },
  {
   "metadata": {
    "ExecuteTime": {
     "end_time": "2025-10-25T18:54:26.015587Z",
     "start_time": "2025-10-25T18:54:17.577406Z"
    }
   },
   "cell_type": "code",
   "source": [
    "X, y = make_forecasting_features(panel_clean, lags=[1,7,14,28], windows=[7,14,28])\n",
    "print(\"Feature matrix:\", X.shape)\n",
    "print(\"Target vector:\", y.shape)\n",
    "\n",
    "X.to_csv(\"data/m5/raw/X_train.csv\", index=False)\n",
    "y.to_csv(\"data/m5/raw/Y_train.csv\", index=False)"
   ],
   "id": "4ab842eeece8bbda",
   "outputs": [
    {
     "name": "stderr",
     "output_type": "stream",
     "text": [
      "/var/folders/79/gjvh3lfx6h158dr9jn_frbx00000gn/T/ipykernel_60302/4082284102.py:7: FutureWarning: The default of observed=False is deprecated and will be changed to True in a future version of pandas. Pass observed=False to retain current behavior or observed=True to adopt the future default and silence this warning.\n",
      "  df.groupby([\"store_id\", \"item_id\"], sort=False)[\"qty\"]\n",
      "/var/folders/79/gjvh3lfx6h158dr9jn_frbx00000gn/T/ipykernel_60302/4082284102.py:7: FutureWarning: The default of observed=False is deprecated and will be changed to True in a future version of pandas. Pass observed=False to retain current behavior or observed=True to adopt the future default and silence this warning.\n",
      "  df.groupby([\"store_id\", \"item_id\"], sort=False)[\"qty\"]\n",
      "/var/folders/79/gjvh3lfx6h158dr9jn_frbx00000gn/T/ipykernel_60302/4082284102.py:7: FutureWarning: The default of observed=False is deprecated and will be changed to True in a future version of pandas. Pass observed=False to retain current behavior or observed=True to adopt the future default and silence this warning.\n",
      "  df.groupby([\"store_id\", \"item_id\"], sort=False)[\"qty\"]\n",
      "/var/folders/79/gjvh3lfx6h158dr9jn_frbx00000gn/T/ipykernel_60302/4082284102.py:7: FutureWarning: The default of observed=False is deprecated and will be changed to True in a future version of pandas. Pass observed=False to retain current behavior or observed=True to adopt the future default and silence this warning.\n",
      "  df.groupby([\"store_id\", \"item_id\"], sort=False)[\"qty\"]\n",
      "/var/folders/79/gjvh3lfx6h158dr9jn_frbx00000gn/T/ipykernel_60302/4082284102.py:14: FutureWarning: The default of observed=False is deprecated and will be changed to True in a future version of pandas. Pass observed=False to retain current behavior or observed=True to adopt the future default and silence this warning.\n",
      "  df.groupby([\"store_id\", \"item_id\"], sort=False)[\"qty\"]\n",
      "/var/folders/79/gjvh3lfx6h158dr9jn_frbx00000gn/T/ipykernel_60302/4082284102.py:21: FutureWarning: The default of observed=False is deprecated and will be changed to True in a future version of pandas. Pass observed=False to retain current behavior or observed=True to adopt the future default and silence this warning.\n",
      "  df.groupby([\"store_id\", \"item_id\"], sort=False)[\"qty\"]\n",
      "/var/folders/79/gjvh3lfx6h158dr9jn_frbx00000gn/T/ipykernel_60302/4082284102.py:14: FutureWarning: The default of observed=False is deprecated and will be changed to True in a future version of pandas. Pass observed=False to retain current behavior or observed=True to adopt the future default and silence this warning.\n",
      "  df.groupby([\"store_id\", \"item_id\"], sort=False)[\"qty\"]\n",
      "/var/folders/79/gjvh3lfx6h158dr9jn_frbx00000gn/T/ipykernel_60302/4082284102.py:21: FutureWarning: The default of observed=False is deprecated and will be changed to True in a future version of pandas. Pass observed=False to retain current behavior or observed=True to adopt the future default and silence this warning.\n",
      "  df.groupby([\"store_id\", \"item_id\"], sort=False)[\"qty\"]\n",
      "/var/folders/79/gjvh3lfx6h158dr9jn_frbx00000gn/T/ipykernel_60302/4082284102.py:14: FutureWarning: The default of observed=False is deprecated and will be changed to True in a future version of pandas. Pass observed=False to retain current behavior or observed=True to adopt the future default and silence this warning.\n",
      "  df.groupby([\"store_id\", \"item_id\"], sort=False)[\"qty\"]\n",
      "/var/folders/79/gjvh3lfx6h158dr9jn_frbx00000gn/T/ipykernel_60302/4082284102.py:21: FutureWarning: The default of observed=False is deprecated and will be changed to True in a future version of pandas. Pass observed=False to retain current behavior or observed=True to adopt the future default and silence this warning.\n",
      "  df.groupby([\"store_id\", \"item_id\"], sort=False)[\"qty\"]\n",
      "/var/folders/79/gjvh3lfx6h158dr9jn_frbx00000gn/T/ipykernel_60302/4082284102.py:34: FutureWarning: The default of observed=False is deprecated and will be changed to True in a future version of pandas. Pass observed=False to retain current behavior or observed=True to adopt the future default and silence this warning.\n",
      "  df.groupby([\"store_id\", \"item_id\"], sort=False)[\"qty\"]\n"
     ]
    },
    {
     "name": "stdout",
     "output_type": "stream",
     "text": [
      "Feature matrix: (753600, 35)\n",
      "Target vector: (753600,)\n"
     ]
    }
   ],
   "execution_count": 6
  },
  {
   "metadata": {},
   "cell_type": "markdown",
   "source": [
    "### Daily Budget Estimation\n",
    "\n",
    "This function computes the daily budget `B` used as a constraint in the newsvendor optimization layer.  \n",
    "For each store, it multiplies daily sales (`price × qty`), aggregates them by date,  \n",
    "and takes the average daily spend across the entire period.  \n",
    "The result is scaled by a factor `percent` (e.g. +10%) to simulate a realistic  \n",
    "budget limit slightly above the historical mean.  \n",
    "\n",
    "The output is a `DataFrame` with (`store_id`, `B`) pairs,  \n",
    "representing each store’s maximum allowed expenditure in the decision layer."
   ],
   "id": "73783c225cff63b9"
  },
  {
   "metadata": {
    "ExecuteTime": {
     "end_time": "2025-10-25T18:54:26.049726Z",
     "start_time": "2025-10-25T18:54:26.046778Z"
    }
   },
   "cell_type": "code",
   "source": [
    "def make_daily_budget(panel_clean, percent=1.10):\n",
    "    spend = (panel_clean.assign(spend=lambda d: d[\"price\"]*d[\"qty\"])\n",
    "                         .groupby([\"store_id\",\"date\"], observed=True)[\"spend\"].sum())\n",
    "    avg_spend = spend.groupby(\"store_id\", observed=True).mean().rename(\"avg_spend\")\n",
    "    B = (avg_spend * percent).rename(\"B\")\n",
    "    return B.reset_index()  "
   ],
   "id": "bf6b2de9c58faa6a",
   "outputs": [],
   "execution_count": 7
  },
  {
   "metadata": {},
   "cell_type": "markdown",
   "source": [
    "### Differentiable Newsvendor Layer\n",
    "\n",
    "This block defines the core optimization problem used in both **PtO** and **DFL** models.  \n",
    "It models a **multi-item newsvendor problem** with an economic budget constraint:\n",
    "\n",
    "\\[\n",
    "\\begin{aligned}\n",
    "\\min_{q \\ge 0} \\quad & \n",
    "\\mathbb{E}\\Big[ \\, c_u (D - q)_+ + c_o (q - D)_+ \\, \\Big] \\\\\n",
    "\\text{s.t.} \\quad & p^\\top q \\le B\n",
    "\\end{aligned}\n",
    "\\]\n",
    "\n",
    "where:\n",
    "\n",
    "\\[\n",
    "\\begin{aligned}\n",
    "q &\\in \\mathbb{R}^n &&\\text{: decision variables (order quantities for each item)},\\\\\n",
    "D &\\in \\mathbb{R}^n &&\\text{: random or predicted demand vector},\\\\\n",
    "c_u,\\, c_o &\\in \\mathbb{R}^n_{+} &&\\text{: unit costs of underage (stockout) and overage (overstock)},\\\\\n",
    "p &\\in \\mathbb{R}^n_{+} &&\\text{: item prices},\\\\\n",
    "B &\\in \\mathbb{R}_{+} &&\\text{: total available budget}.\n",
    "\\end{aligned}\n",
    "\\]\n",
    "\n",
    "**Function overview:**\n",
    "\n",
    "- `build_newsvendor_problem`: defines a standard convex CVXPY problem for offline optimization or PtO evaluation.  \n",
    "- `build_newsvendor_layer`: rewrites the problem using auxiliary slack variables \\(U, V\\)  \n",
    "  to linearize the hinge terms \\( (x)_+ = \\max(x, 0) \\),  \n",
    "  making the formulation **DPP-safe** (Differentiable Parametric Programming).\n",
    "\n",
    "The resulting **`CvxpyLayer`** acts as a differentiable solver inside a neural network,  \n",
    "allowing gradients to flow through the optimal solution \\( q^*(D) \\) during backpropagation.  \n",
    "\n",
    "This enables true **Decision-Focused Learning (DFL)**:  \n",
    "the model learns predictions that directly minimize the downstream decision cost,  \n",
    "not just the forecasting error."
   ],
   "id": "6390d3b499806026"
  },
  {
   "metadata": {
    "ExecuteTime": {
     "end_time": "2025-10-25T18:54:26.059721Z",
     "start_time": "2025-10-25T18:54:26.054045Z"
    }
   },
   "cell_type": "code",
   "source": [
    "def build_newsvendor_problem(n_items, n_scenarios):\n",
    "    q   = cp.Variable(n_items, nonneg=True, name=\"q\")\n",
    "    D   = cp.Parameter((n_scenarios, n_items), nonneg=True, name=\"D\")  \n",
    "    cu  = cp.Parameter(n_items, nonneg=True, name=\"cu\")                \n",
    "    co  = cp.Parameter(n_items, nonneg=True, name=\"co\")                \n",
    "    p   = cp.Parameter(n_items, nonneg=True, name=\"p\")                 \n",
    "    B   = cp.Parameter(nonneg=True, name=\"B\")                          \n",
    "\n",
    "\n",
    "    under = cp.pos(D - q)    \n",
    "    over  = cp.pos(q - D)    \n",
    "    cost  = cp.sum((under @ cu) + (over @ co)) / n_scenarios\n",
    "\n",
    "    constraints = [p @ q <= B]\n",
    "    prob = cp.Problem(cp.Minimize(cost), constraints)\n",
    "    return prob, (q, D, cu, co, p, B)\n",
    "\n",
    "import cvxpy as cp\n",
    "def build_newsvendor_layer(n_items, n_scenarios=1):\n",
    "    q = cp.Variable(n_items, nonneg=True, name=\"q\")\n",
    "    U = cp.Variable((n_scenarios, n_items), nonneg=True, name=\"U\")  # underage slack\n",
    "    V = cp.Variable((n_scenarios, n_items), nonneg=True, name=\"V\")  # overage slack\n",
    "\n",
    "    D  = cp.Parameter((n_scenarios, n_items), nonneg=True, name=\"D\")\n",
    "    cu = cp.Parameter(n_items,               nonneg=True, name=\"cu\")\n",
    "    co = cp.Parameter(n_items,               nonneg=True, name=\"co\")\n",
    "    p  = cp.Parameter(n_items,               nonneg=True, name=\"p\")\n",
    "    B  = cp.Parameter(nonneg=True, name=\"B\")  # scalare\n",
    "\n",
    "\n",
    "    q_row = cp.reshape(q, (1, n_items))\n",
    "    cons = [\n",
    "        U >= D - q_row,\n",
    "        V >= q_row - D,\n",
    "        p @ q <= B,\n",
    "    ]\n",
    "\n",
    "\n",
    "    cost = (cp.sum(cp.multiply(cu, cp.sum(U, axis=0))) +\n",
    "            cp.sum(cp.multiply(co, cp.sum(V, axis=0)))) / n_scenarios\n",
    "\n",
    "    prob = cp.Problem(cp.Minimize(cost), cons)\n",
    "    return CvxpyLayer(prob, parameters=[D, cu, co, p, B], variables=[q])"
   ],
   "id": "ca64af33a3093923",
   "outputs": [],
   "execution_count": 8
  },
  {
   "metadata": {},
   "cell_type": "markdown",
   "source": [
    "### Smoke Test: Differentiable Newsvendor Layer\n",
    "\n",
    "This small test verifies that the differentiable optimization layer  \n",
    "(`CvxpyLayer`) is correctly defined and numerically stable.  \n",
    "\n",
    "It builds a mini 5-item, 3-scenario newsvendor problem and checks that  \n",
    "the solver returns a valid non-negative optimal solution \\( q^* \\)  \n",
    "satisfying the budget constraint \\( p^\\top q \\le B \\).  \n",
    "\n",
    "Passing this test confirms that the formulation is **convex, DPP-safe, and ready**  \n",
    "to be embedded into a Decision-Focused Learning pipeline."
   ],
   "id": "5c20cb0b71bd1819"
  },
  {
   "metadata": {
    "ExecuteTime": {
     "end_time": "2025-10-25T18:54:26.160753Z",
     "start_time": "2025-10-25T18:54:26.087516Z"
    }
   },
   "cell_type": "code",
   "source": [
    "torch.set_default_dtype(torch.float64)\n",
    "def smoke_test_layer():\n",
    "    n_items, S = 5, 3\n",
    "    layer = build_newsvendor_layer(n_items, n_scenarios=S)\n",
    "\n",
    "    D_t  = torch.rand(S, n_items) * 10.0          \n",
    "    cu_t = torch.full((n_items,), 3.0)            \n",
    "    co_t = torch.full((n_items,), 1.0)\n",
    "    p_t  = torch.rand(n_items) * 5.0 + 1.0        \n",
    "    B_t  = torch.tensor(50.0)                     \n",
    "\n",
    "    q_star, = layer(D_t, cu_t, co_t, p_t, B_t)\n",
    "    assert torch.all(q_star >= 0.0)\n",
    "    return q_star\n",
    "\n",
    "_ = smoke_test_layer()\n",
    "print(\"Layer DPP-safe: forward OK ✅\")"
   ],
   "id": "b0d861b5cbedff14",
   "outputs": [
    {
     "name": "stdout",
     "output_type": "stream",
     "text": [
      "Layer DPP-safe: forward OK ✅\n"
     ]
    },
    {
     "name": "stderr",
     "output_type": "stream",
     "text": [
      "/Users/paolaloi/PycharmProjects/DFL_thesis/.venv/lib/python3.12/site-packages/cvxpy/atoms/affine/reshape.py:68: FutureWarning: \n",
      "    You didn't specify the order of the reshape expression. The default order\n",
      "    used in CVXPY is Fortran ('F') order. This default will change to match NumPy's\n",
      "    default order ('C') in a future version of CVXPY.\n",
      "    To suppress this warning, please specify the order explicitly.\n",
      "    \n",
      "  warnings.warn(reshape_order_warning, FutureWarning)\n"
     ]
    }
   ],
   "execution_count": 9
  },
  {
   "metadata": {},
   "cell_type": "markdown",
   "source": [
    "### ForecastNet: Demand Prediction Model\n",
    "\n",
    "This neural network predicts daily product demand from engineered features.  \n",
    "It takes as input a vector of lag, rolling, and contextual variables for each item  \n",
    "and outputs a **positive demand forecast** \\(\\hat D_\\theta\\).  \n",
    "\n",
    "Architecture:\n",
    "- Dense layer (n_features → hidden)\n",
    "- ReLU activation\n",
    "- Dense layer (hidden → 1)\n",
    "- Softplus output (ensures positivity and smooth gradients)\n",
    "\n",
    "The output \\(\\hat D_\\theta\\) is then passed to the differentiable optimization layer,  \n",
    "linking prediction and decision-making in the DFL framework."
   ],
   "id": "b68146a5dc2ccff0"
  },
  {
   "metadata": {
    "ExecuteTime": {
     "end_time": "2025-10-25T18:54:26.429380Z",
     "start_time": "2025-10-25T18:54:26.426869Z"
    }
   },
   "cell_type": "code",
   "source": [
    "class ForecastNet(nn.Module):\n",
    "    def __init__(self, n_features, hidden=64):\n",
    "        super().__init__()\n",
    "        self.net = nn.Sequential(\n",
    "            nn.Linear(n_features, hidden),\n",
    "            nn.ReLU(),\n",
    "            nn.Linear(hidden, 1),     \n",
    "            nn.Softplus()             \n",
    "        )\n",
    "\n",
    "    def forward(self, x):\n",
    "        # x: (n_items, n_features) -> out: (n_items, 1)\n",
    "        return self.net(x)"
   ],
   "id": "677251b20d44d92d",
   "outputs": [],
   "execution_count": 10
  },
  {
   "metadata": {},
   "cell_type": "markdown",
   "source": [
    "### Operational Parameters and Budget\n",
    "\n",
    "These helper functions define the economic context of the optimization layer.\n",
    "\n",
    "- **`make_budget()`**  \n",
    "  Computes an average daily budget per store based on observed spending  \n",
    "  (`price × qty`), scaled by a factor (e.g., +10%) to simulate available capacity.\n",
    "\n",
    "- **`get_operational_params()`**  \n",
    "  Extracts, for a given store and date, the item-level vectors of:\n",
    "  - prices `p`,\n",
    "  - underage costs `c_u`,\n",
    "  - overage costs `c_o`.  \n",
    "\n",
    "All parameters are returned as Torch tensors (`float64`) and  \n",
    "fed into the differentiable newsvendor layer during optimization."
   ],
   "id": "a731aa5f408c6568"
  },
  {
   "metadata": {
    "ExecuteTime": {
     "end_time": "2025-10-25T18:54:26.632873Z",
     "start_time": "2025-10-25T18:54:26.629294Z"
    }
   },
   "cell_type": "code",
   "source": [
    "def make_budget(panel_clean, percent=1.10):\n",
    "    spend = (panel_clean.assign(spend=lambda d: d[\"price\"] * d[\"qty\"])\n",
    "             .groupby([\"store_id\",\"date\"], observed=True)[\"spend\"].sum())\n",
    "    avg_spend = spend.groupby(\"store_id\", observed=True).mean()\n",
    "    return (avg_spend * percent).rename(\"B\")\n",
    "\n",
    "def get_operational_params(panel_clean, store, day, cu=3.0, co=1.0):\n",
    "    sl = panel_clean.query(\"store_id == @store and date == @day\").sort_values(\"item_id\")\n",
    "    n_items = len(sl)\n",
    "    price_vec = torch.tensor(sl[\"price\"].to_numpy(), dtype=torch.float64)\n",
    "    cu_vec = torch.full((n_items,), cu, dtype=torch.float64)\n",
    "    co_vec = torch.full((n_items,), co, dtype=torch.float64)\n",
    "    return price_vec, cu_vec, co_vec"
   ],
   "id": "c55725e9856534e8",
   "outputs": [],
   "execution_count": 11
  },
  {
   "metadata": {},
   "cell_type": "markdown",
   "source": [
    "### PtO Training (Predict-then-Optimize Baseline)\n",
    "\n",
    "This function trains the forecasting network using the standard Mean Squared Error (MSE) loss:\n",
    "\n",
    "\\[\n",
    "\\begin{aligned}\n",
    "L_{\\mathrm{PtO}}\n",
    "&= \\big\\| D - \\hat{D}_{\\theta} \\big\\|_2^{\\,2}\n",
    "\\end{aligned}\n",
    "\\]\n",
    "\n",
    "The model learns to predict future demand accurately,  \n",
    "without considering downstream operational constraints or costs.  \n",
    "The training loop uses the Adam optimizer and reports average MSE per epoch.  \n",
    "\n",
    "This model serves as the baseline for comparison with the  \n",
    "**Decision-Focused Learning (DFL)** approach, which optimizes for decision quality instead of prediction accuracy."
   ],
   "id": "11c8d158d0ce8b28"
  },
  {
   "metadata": {
    "ExecuteTime": {
     "end_time": "2025-10-25T18:54:26.815104Z",
     "start_time": "2025-10-25T18:54:26.811987Z"
    }
   },
   "cell_type": "code",
   "source": [
    "def train_pto(model, train_data, epochs=5, lr=1e-3):\n",
    "    optimizer = optim.Adam(model.parameters(), lr=lr)\n",
    "    loss_fn = nn.MSELoss()\n",
    "    model.train()\n",
    "    for epoch in range(epochs):\n",
    "        total = 0.0\n",
    "        for Xi, yi, _ in train_data:\n",
    "            X_t = torch.tensor(Xi, dtype=torch.float64)\n",
    "            y_t = torch.tensor(yi, dtype=torch.float64)          \n",
    "            d_hat = model(X_t).squeeze(-1)                       \n",
    "\n",
    "            loss = loss_fn(d_hat, y_t)\n",
    "            optimizer.zero_grad()\n",
    "            loss.backward()\n",
    "            optimizer.step()\n",
    "            total += loss.item()\n",
    "        print(f\"[PtO] Epoch {epoch+1} | MSE: {total/len(train_data):.4f}\")"
   ],
   "id": "8b794004acaaef1d",
   "outputs": [],
   "execution_count": 12
  },
  {
   "metadata": {
    "ExecuteTime": {
     "end_time": "2025-10-25T18:54:27.007374Z",
     "start_time": "2025-10-25T18:54:27.003188Z"
    }
   },
   "cell_type": "code",
   "source": [
    "def train_dfl(model, layer, train_data, panel_clean, store,\n",
    "              epochs=5, lr=1e-3, cu=3.0, co=1.0):\n",
    "    optimizer = optim.Adam(model.parameters(), lr=lr)\n",
    "    model.train()\n",
    "\n",
    "    B_table = make_budget(panel_clean)\n",
    "    B_val = torch.tensor(float(B_table.loc[store]), dtype=torch.float64)\n",
    "\n",
    "    for epoch in range(epochs):\n",
    "        total_cost = 0.0\n",
    "        for Xi, yi, d in train_data:\n",
    "            X_t = torch.tensor(Xi, dtype=torch.float64)          \n",
    "            y_t = torch.tensor(yi, dtype=torch.float64)          \n",
    "\n",
    "            d_hat = model(X_t).squeeze(-1)                       \n",
    "            assert d_hat.dim() == 1, f\"Expected (n_items,), got {d_hat.shape}\"\n",
    "\n",
    "            price_vec, cu_vec, co_vec = get_operational_params(panel_clean, store, d, cu, co)\n",
    "            D_t = d_hat.unsqueeze(0)                              \n",
    "\n",
    "            q_star, = layer(D_t, cu_vec, co_vec, price_vec, B_val)\n",
    "\n",
    "            under = torch.clamp(y_t - q_star, min=0)\n",
    "            over  = torch.clamp(q_star - y_t, min=0)\n",
    "            cost = torch.sum(cu_vec * under + co_vec * over)\n",
    "\n",
    "            optimizer.zero_grad()\n",
    "            cost.backward()\n",
    "            optimizer.step()\n",
    "            total_cost += cost.item()\n",
    "        print(f\"[DFL] Epoch {epoch+1} | Decision cost: {total_cost/len(train_data):.2f}\")"
   ],
   "id": "f65e24e788d656d4",
   "outputs": [],
   "execution_count": 13
  },
  {
   "metadata": {},
   "cell_type": "markdown",
   "source": [
    "### Decision-Focused Learning (DFL) — Training Objective and Flow\n",
    "\n",
    "We train the forecasting network **through** the differentiable newsvendor layer by minimizing the **decision cost**:\n",
    "\n",
    "\\[\n",
    "L_{\\mathrm{DFL}}\n",
    "\\;=\\;\n",
    "\\mathbb{E}\\!\\left[\n",
    "\\, c_u\\,\\big(D - q^{\\star}(\\hat{D}_{\\theta})\\big)_{+}\n",
    "\\;+\\;\n",
    "c_o\\,\\big(q^{\\star}(\\hat{D}_{\\theta}) - D\\big)_{+}\n",
    "\\right],\n",
    "\\]\n",
    "where \\((x)_{+}=\\max\\{x,0\\}\\) and \\(q^{\\star}(\\hat{D}_{\\theta})\\) is the optimal order vector returned by the optimization layer.\n",
    "\n",
    "The **differentiable newsvendor** layer solves, for each instance:\n",
    "\\[\n",
    "\\begin{aligned}\n",
    "q^{\\star}(\\hat{D}_{\\theta})\n",
    "\\;=\\;\n",
    "\\arg\\min_{q \\ge 0,\\, U \\ge 0,\\, V \\ge 0}\n",
    "&\\quad\n",
    "\\frac{1}{S}\\sum_{i=1}^{n}\n",
    "\\Big( c_u \\sum_{s=1}^{S} U_{s i}\n",
    "\\;+\\;\n",
    "c_o \\sum_{s=1}^{S} V_{s i} \\Big)\n",
    "\\\\[4pt]\n",
    "\\text{s.t.}\\qquad\n",
    "& U \\;\\ge\\; D - q\\mathbf{1}^\\top,\\qquad\n",
    "V \\;\\ge\\; q\\mathbf{1}^\\top - D,\\\\\n",
    "& p^\\top q \\;\\le\\; B,\n",
    "\\end{aligned}\n",
    "\\]\n",
    "with \\(D\\in\\mathbb{R}_{+}^{S\\times n}\\), \\(p,c_u,c_o\\in\\mathbb{R}_{+}^{n}\\), \\(B\\in\\mathbb{R}_{+}\\), and \\(\\mathbf{1}\\) a column vector of ones of length \\(S\\).\n",
    "\n",
    "During backpropagation, gradients flow **through the solver** (implicit differentiation of the KKT system):\n",
    "\\[\n",
    "\\frac{\\partial L_{\\mathrm{DFL}}}{\\partial \\theta}\n",
    "\\;=\\;\n",
    "\\frac{\\partial L_{\\mathrm{DFL}}}{\\partial q^{\\star}}\n",
    "\\;\\frac{\\partial q^{\\star}}{\\partial \\hat{D}_{\\theta}}\n",
    "\\;\\frac{\\partial \\hat{D}_{\\theta}}{\\partial \\theta}.\n",
    "\\]\n",
    "\n",
    "For comparison, the PtO baseline trains the predictor with the standard MSE:\n",
    "\\[\n",
    "L_{\\mathrm{PtO}}\n",
    "\\;=\\;\n",
    "\\big\\|\\, D - \\hat{D}_{\\theta} \\,\\big\\|_{2}^{2}.\n",
    "\\]"
   ],
   "id": "57916cfda8e89fac"
  },
  {
   "metadata": {
    "ExecuteTime": {
     "end_time": "2025-10-25T18:54:27.192732Z",
     "start_time": "2025-10-25T18:54:27.189817Z"
    }
   },
   "cell_type": "code",
   "source": [
    "def make_instances(X, y, store):\n",
    "    Xs = X[X[\"store_id\"] == store].copy()\n",
    "    ys = y[X[\"store_id\"] == store].copy()\n",
    "\n",
    "    feature_cols = [c for c in Xs.columns if c not in [\"store_id\", \"item_id\", \"date\"]]\n",
    "    dates = sorted(Xs[\"date\"].unique())\n",
    "    item_order = Xs[\"item_id\"].sort_values().unique()\n",
    "\n",
    "    instances = []\n",
    "    for d in dates:\n",
    "        mask = Xs[\"date\"] == d\n",
    "        Xi = Xs.loc[mask].sort_values(\"item_id\")[feature_cols].to_numpy(np.float64)\n",
    "        yi = ys.loc[mask].to_numpy(np.float64)\n",
    "        instances.append((Xi, yi, d))\n",
    "\n",
    "    return instances, feature_cols, item_order"
   ],
   "id": "9152beb49c67e704",
   "outputs": [],
   "execution_count": 14
  },
  {
   "metadata": {
    "ExecuteTime": {
     "end_time": "2025-10-25T19:15:12.774407Z",
     "start_time": "2025-10-25T18:54:27.432151Z"
    }
   },
   "cell_type": "code",
   "source": [
    "store = \"CA_1\"\n",
    "instances, feat_cols, item_order = make_instances(X, y, store)\n",
    "n_items = len(item_order)\n",
    "n_features = len(feat_cols)\n",
    "\n",
    "split = int(0.8 * len(instances))\n",
    "train_data, test_data = instances[:split], instances[split:]\n",
    "\n",
    "layer = build_newsvendor_layer(n_items, n_scenarios=1)\n",
    "model_pto = ForecastNet(n_features)\n",
    "model_dfl = ForecastNet(n_features)\n",
    "\n",
    "print(\"\\n---- Training PtO ----\")\n",
    "train_pto(model_pto, train_data, epochs=10)\n",
    "\n",
    "print(\"\\n---- Training DFL ----\")\n",
    "train_dfl(model_dfl, layer, train_data, panel_clean, store, epochs=10)"
   ],
   "id": "bf1670f3f4cd3c8",
   "outputs": [
    {
     "name": "stderr",
     "output_type": "stream",
     "text": [
      "/Users/paolaloi/PycharmProjects/DFL_thesis/.venv/lib/python3.12/site-packages/cvxpy/atoms/affine/reshape.py:68: FutureWarning: \n",
      "    You didn't specify the order of the reshape expression. The default order\n",
      "    used in CVXPY is Fortran ('F') order. This default will change to match NumPy's\n",
      "    default order ('C') in a future version of CVXPY.\n",
      "    To suppress this warning, please specify the order explicitly.\n",
      "    \n",
      "  warnings.warn(reshape_order_warning, FutureWarning)\n"
     ]
    },
    {
     "name": "stdout",
     "output_type": "stream",
     "text": [
      "\n",
      "---- Training PtO ----\n",
      "[PtO] Epoch 1 | MSE: 5.4711\n",
      "[PtO] Epoch 2 | MSE: 5.3504\n",
      "[PtO] Epoch 3 | MSE: 5.3289\n",
      "[PtO] Epoch 4 | MSE: 5.3107\n",
      "[PtO] Epoch 5 | MSE: 5.2961\n",
      "[PtO] Epoch 6 | MSE: 5.2857\n",
      "[PtO] Epoch 7 | MSE: 5.2735\n",
      "[PtO] Epoch 8 | MSE: 5.2613\n",
      "[PtO] Epoch 9 | MSE: 5.2554\n",
      "[PtO] Epoch 10 | MSE: 5.2462\n",
      "\n",
      "---- Training DFL ----\n",
      "[DFL] Epoch 1 | Decision cost: 185.32\n",
      "[DFL] Epoch 2 | Decision cost: 179.43\n"
     ]
    },
    {
     "name": "stderr",
     "output_type": "stream",
     "text": [
      "/Users/paolaloi/PycharmProjects/DFL_thesis/.venv/lib/python3.12/site-packages/diffcp/cone_program.py:348: UserWarning: Solved/Inaccurate.\n",
      "  warnings.warn(\"Solved/Inaccurate.\")\n"
     ]
    },
    {
     "name": "stdout",
     "output_type": "stream",
     "text": [
      "[DFL] Epoch 3 | Decision cost: 178.51\n",
      "[DFL] Epoch 4 | Decision cost: 178.02\n",
      "[DFL] Epoch 5 | Decision cost: 177.42\n",
      "[DFL] Epoch 6 | Decision cost: 177.25\n",
      "[DFL] Epoch 7 | Decision cost: 177.11\n",
      "[DFL] Epoch 8 | Decision cost: 176.96\n",
      "[DFL] Epoch 9 | Decision cost: 176.81\n",
      "[DFL] Epoch 10 | Decision cost: 176.66\n"
     ]
    }
   ],
   "execution_count": 15
  },
  {
   "metadata": {},
   "cell_type": "markdown",
   "source": [
    "### Experimental Training Setup\n",
    "\n",
    "We train two forecasting models on the same data split:\n",
    "\n",
    "1. **Predict-then-Optimize (PtO):**\n",
    "   Trained with the standard MSE objective  \n",
    "   \\[\n",
    "   L_{\\mathrm{PtO}} = \\big\\|\\, D - \\hat{D}_{\\theta} \\,\\big\\|_{2}^{2}.\n",
    "   \\]\n",
    "   This model focuses purely on predictive accuracy.\n",
    "\n",
    "2. **Decision-Focused Learning (DFL):**\n",
    "   Trained end-to-end through the differentiable optimization layer,  \n",
    "   minimizing the expected decision cost:\n",
    "   \\[\n",
    "   L_{\\mathrm{DFL}} =\n",
    "   \\mathbb{E}\\!\\left[\n",
    "   c_u(D - q^{\\star}(\\hat{D}_{\\theta}))_{+} +\n",
    "   c_o(q^{\\star}(\\hat{D}_{\\theta}) - D)_{+}\n",
    "   \\right].\n",
    "   \\]\n",
    "   The gradient flows through the solver (via KKT differentiation),  \n",
    "   allowing the model to learn *decision-aware* predictions.\n",
    "\n",
    "Both models share the same architecture (`ForecastNet`)  \n",
    "and are trained on 80% of the time series for store **CA_1**,  \n",
    "using the remaining 20% for evaluation.\n"
   ],
   "id": "666c64cfaab3678d"
  },
  {
   "metadata": {
    "ExecuteTime": {
     "end_time": "2025-10-25T19:15:13.331527Z",
     "start_time": "2025-10-25T19:15:13.324534Z"
    }
   },
   "cell_type": "code",
   "source": [
    "def evaluate_decision_quality(model, layer, test_data, panel_clean, store, cu=3.0, co=1.0):\n",
    "    B_table = make_budget(panel_clean)\n",
    "    B_val = torch.tensor(float(B_table.loc[store]), dtype=torch.float64)\n",
    "    costs, fills, stocks = [], [], []\n",
    "\n",
    "    for Xi, yi, d in test_data:\n",
    "        X_t = torch.tensor(Xi, dtype=torch.float64)\n",
    "        y_t = torch.tensor(yi, dtype=torch.float64)\n",
    "        d_hat = model(X_t).squeeze(-1)           # (n_items,)\n",
    "        price_vec, cu_vec, co_vec = get_operational_params(panel_clean, store, d, cu, co)\n",
    "        D_t = d_hat.unsqueeze(0)                  # (1, n_items)\n",
    "        q_star, = layer(D_t, cu_vec, co_vec, price_vec, B_val)\n",
    "\n",
    "        under = torch.clamp(y_t - q_star, min=0)\n",
    "        over  = torch.clamp(q_star - y_t, min=0)\n",
    "        cost = torch.sum(cu_vec * under + co_vec * over).item()\n",
    "        costs.append(cost)\n",
    "\n",
    "        denom = torch.sum(y_t)\n",
    "        if denom > 0:\n",
    "            fill = torch.sum(torch.minimum(q_star, y_t)) / denom\n",
    "            fills.append(fill.item())\n",
    "        else:\n",
    "            fills.append(np.nan)\n",
    "\n",
    "        stocks.append((under > 0).float().mean().item())\n",
    "\n",
    "    fills_clean = [f for f in fills if not np.isnan(f)]\n",
    "    return {\n",
    "        \"mean_cost\": float(np.mean(costs)),\n",
    "        \"mean_fill_rate\": float(np.mean(fills_clean)),\n",
    "        \"mean_stockout\": float(np.mean(stocks)),\n",
    "    }"
   ],
   "id": "e44b5e6a43bf1514",
   "outputs": [],
   "execution_count": 16
  },
  {
   "metadata": {},
   "cell_type": "markdown",
   "source": [
    "### Evaluation of Decision Quality\n",
    "\n",
    "The trained PtO and DFL models are evaluated on the test set using the same  \n",
    "differentiable optimization layer. For each test instance, the predicted demand  \n",
    "\\(\\hat{D}_\\theta\\) is passed to the solver to obtain the optimal decision \\(q^{\\star}(\\hat{D}_\\theta)\\).\n",
    "\n",
    "The following metrics are computed:\n",
    "\n",
    "\\[\n",
    "\\begin{aligned}\n",
    "\\text{Decision Cost} &= c_u(D - q^{\\star})_{+} + c_o(q^{\\star} - D)_{+},\\\\[3pt]\n",
    "\\text{Fill Rate} &= 1 - \\frac{\\sum (D - q^{\\star})_{+}}{\\sum D},\\\\[3pt]\n",
    "\\text{Stockout Rate} &= \\frac{1}{n}\\sum_i \\mathbf{1}_{[D_i > q^{\\star}_i]}.\n",
    "\\end{aligned}\n",
    "\\]\n",
    "\n",
    "| Model | Mean Decision Cost ↓ | Fill Rate ↑ | Stockout Rate ↓ |\n",
    "|--------|----------------------|-------------|-----------------|\n",
    "| PtO | 228.50               | 0.51        | 0.335           |\n",
    "| DFL | **211.50**           | **0.59**    | **0.314**       |\n",
    "\n",
    "The DFL model achieves lower decision cost and higher fill rate,  \n",
    "confirming that **end-to-end decision-aware training** improves operational performance  \n",
    "under asymmetric cost structures and budget constraints."
   ],
   "id": "70367c0a77d18413"
  },
  {
   "metadata": {
    "ExecuteTime": {
     "end_time": "2025-10-25T19:15:40.960068Z",
     "start_time": "2025-10-25T19:15:13.339923Z"
    }
   },
   "cell_type": "code",
   "source": [
    "res_pto = evaluate_decision_quality(model_pto, layer, test_data, panel_clean, store)\n",
    "res_dfl = evaluate_decision_quality(model_dfl, layer, test_data, panel_clean, store)\n",
    "\n",
    "print(\"PtO:\", res_pto)\n",
    "print(\"DFL:\", res_dfl)"
   ],
   "id": "890add84baeb3a1b",
   "outputs": [
    {
     "name": "stdout",
     "output_type": "stream",
     "text": [
      "PtO: {'mean_cost': 228.4818788275516, 'mean_fill_rate': 0.5075458566456705, 'mean_stockout': 0.33496021290633343}\n",
      "DFL: {'mean_cost': 211.49173396649067, 'mean_fill_rate': 0.589650585819452, 'mean_stockout': 0.3141909815983684}\n"
     ]
    }
   ],
   "execution_count": 17
  },
  {
   "metadata": {},
   "cell_type": "markdown",
   "source": [
    "### Multi-Store Evaluation\n",
    "\n",
    "We extend the evaluation to all stores within the selected state (California).  \n",
    "For each store, both PtO and DFL models are tested on the last 20% of the time horizon,  \n",
    "and decision-quality metrics are computed using the same optimization layer.\n",
    "\n",
    "Metrics:\n",
    "\\[\n",
    "\\begin{aligned}\n",
    "\\text{Decision Cost} &= c_u(D - q^{\\star})_{+} + c_o(q^{\\star} - D)_{+},\\\\[3pt]\n",
    "\\text{Fill Rate} &= 1 - \\frac{\\sum (D - q^{\\star})_{+}}{\\sum D},\\\\[3pt]\n",
    "\\text{Stockout Rate} &= \\frac{1}{n}\\sum_i \\mathbf{1}_{[D_i > q^{\\star}_i]},\\\\[3pt]\n",
    "\\Delta \\text{Cost vs PtO} &= 100 \\times \\frac{C_{\\text{model}} - C_{\\text{PtO}}}{C_{\\text{PtO}}}.\n",
    "\\end{aligned}\n",
    "\\]\n",
    "\n",
    "Results show that the DFL consistently achieves **lower decision cost**\n",
    "and **higher fill rate** across all stores,  \n",
    "confirming the robustness of the decision-aware training paradigm."
   ],
   "id": "88eabf5ee2853a9d"
  },
  {
   "metadata": {
    "ExecuteTime": {
     "end_time": "2025-10-25T19:15:41.267807Z",
     "start_time": "2025-10-25T19:15:41.261733Z"
    }
   },
   "cell_type": "code",
   "source": [
    "def evaluate_all_stores(models, layer, X, y, panel_clean, stores, cu=3.0, co=1.0):\n",
    "    results = []\n",
    "    for store in tqdm(stores):\n",
    "        instances, _, _ = make_instances(X, y, store)\n",
    "        split = int(0.8 * len(instances))\n",
    "        test_data = instances[split:]  \n",
    "\n",
    "        for name, model in models.items():\n",
    "            res = evaluate_decision_quality(model, layer, test_data, panel_clean, store, cu, co)\n",
    "            results.append({\n",
    "                \"Store\": store,\n",
    "                \"Model\": name,\n",
    "                \"Mean_Cost\": res[\"mean_cost\"],\n",
    "                \"Fill_Rate\": res[\"mean_fill_rate\"],\n",
    "                \"Stockout_Rate\": res[\"mean_stockout\"]\n",
    "            })\n",
    "    return pd.DataFrame(results)"
   ],
   "id": "c6750f576e2875ad",
   "outputs": [],
   "execution_count": 18
  },
  {
   "metadata": {
    "ExecuteTime": {
     "end_time": "2025-10-25T19:17:33.374790Z",
     "start_time": "2025-10-25T19:15:41.656075Z"
    }
   },
   "cell_type": "code",
   "source": [
    "STATE_KEEP = [\"CA\"]   \n",
    "stores = panel_clean[\"store_id\"].unique().tolist()\n",
    "\n",
    "models = {\"PtO\": model_pto, \"DFL\": model_dfl}\n",
    "\n",
    "df_results = evaluate_all_stores(models, layer, X, y, panel_clean, stores)\n",
    "df_results[\"Delta_Cost_vs_PtO\"] = (\n",
    "    df_results.groupby(\"Store\")[\"Mean_Cost\"].transform(lambda x: 100 * (x - x.iloc[0]) / x.iloc[0])\n",
    ")\n",
    "\n",
    "print(df_results.round(3))"
   ],
   "id": "4ad5804638c123ff",
   "outputs": [
    {
     "name": "stderr",
     "output_type": "stream",
     "text": [
      "100%|██████████| 4/4 [01:51<00:00, 27.91s/it]"
     ]
    },
    {
     "name": "stdout",
     "output_type": "stream",
     "text": [
      "  Store Model  Mean_Cost  Fill_Rate  Stockout_Rate  Delta_Cost_vs_PtO\n",
      "0  CA_1   PtO    228.482      0.508          0.335              0.000\n",
      "1  CA_1   DFL    211.492      0.590          0.314             -7.436\n",
      "2  CA_2   PtO    194.512      0.456          0.314              0.000\n",
      "3  CA_2   DFL    182.577      0.524          0.290             -6.136\n",
      "4  CA_3   PtO    250.730      0.529          0.362              0.000\n",
      "5  CA_3   DFL    229.900      0.619          0.320             -8.308\n",
      "6  CA_4   PtO    169.325      0.489          0.296              0.000\n",
      "7  CA_4   DFL    153.479      0.573          0.291             -9.358\n"
     ]
    },
    {
     "name": "stderr",
     "output_type": "stream",
     "text": [
      "\n"
     ]
    }
   ],
   "execution_count": 19
  },
  {
   "metadata": {
    "ExecuteTime": {
     "end_time": "2025-10-25T19:17:34.283763Z",
     "start_time": "2025-10-25T19:17:33.548429Z"
    }
   },
   "cell_type": "code",
   "source": [
    "sns.set(style=\"whitegrid\", font_scale=1.1)\n",
    "fig, ax = plt.subplots(1, 3, figsize=(15, 4))\n",
    "sns.barplot(data=df_results, x=\"Store\", y=\"Mean_Cost\", hue=\"Model\", ax=ax[0])\n",
    "ax[0].set_title(\"Mean Decision Cost\")\n",
    "ax[0].set_ylabel(\"Cost\")\n",
    "\n",
    "sns.barplot(data=df_results, x=\"Store\", y=\"Fill_Rate\", hue=\"Model\", ax=ax[1])\n",
    "ax[1].set_title(\"Fill Rate\")\n",
    "\n",
    "sns.barplot(data=df_results, x=\"Store\", y=\"Stockout_Rate\", hue=\"Model\", ax=ax[2])\n",
    "ax[2].set_title(\"Stockout Rate\")\n",
    "\n",
    "plt.suptitle(\"Decision Quality Comparison: PtO vs DFL\", y=1.05)\n",
    "plt.tight_layout()\n",
    "plt.show()"
   ],
   "id": "34d7afac4416eb7b",
   "outputs": [
    {
     "data": {
      "text/plain": [
       "<Figure size 1500x400 with 3 Axes>"
      ],
      "image/png": "[encoded data removed]"
     },
     "metadata": {},
     "output_type": "display_data"
    }
   ],
   "execution_count": 20
  },
  {
   "metadata": {
    "ExecuteTime": {
     "end_time": "2025-10-25T19:20:27.183143Z",
     "start_time": "2025-10-25T19:20:27.178388Z"
    }
   },
   "cell_type": "code",
   "source": [
    "def compute_utilization(q_star, price_vec, B_val):\n",
    "    util = (price_vec * q_star).sum().item() / B_val.item()\n",
    "    return util\n",
    "\n",
    "def split_under_over_cost(y_true, q_star, cu_vec, co_vec):\n",
    "    under = torch.clamp(y_true - q_star, min=0)\n",
    "    over  = torch.clamp(q_star - y_true, min=0)\n",
    "    cost_under = (cu_vec * under).sum().item()\n",
    "    cost_over  = (co_vec * over).sum().item()\n",
    "    return cost_under, cost_over\n",
    "\n",
    "def cvar_cost(costs, alpha=0.95):\n",
    "    sorted_costs = np.sort(costs)\n",
    "    idx = int((1-alpha)*len(sorted_costs))\n",
    "    return sorted_costs[idx:].mean()\n",
    "\n",
    "def bootstrap_ci(data, func=np.mean, n_boot=1000, ci=0.95, random_state=0):\n",
    "    rng = np.random.RandomState(random_state)\n",
    "    boots = [func(rng.choice(data, size=len(data), replace=True)) for _ in range(n_boot)]\n",
    "    lower = np.percentile(boots, (1-ci)/2*100)\n",
    "    upper = np.percentile(boots, (1+(ci))/2*100)\n",
    "    return func(data), (lower, upper)"
   ],
   "id": "36267548c8795ff1",
   "outputs": [],
   "execution_count": 25
  },
  {
   "metadata": {
    "ExecuteTime": {
     "end_time": "2025-10-25T19:29:06.543766Z",
     "start_time": "2025-10-25T19:29:06.531969Z"
    }
   },
   "cell_type": "code",
   "source": [
    "#def plot_cost_box(costs_df):\n",
    "#    plt.figure(figsize=(6,5))\n",
    "#    sns.boxplot(data=costs_df, x=\"Model\", y=\"Cost\", palette=[\"#D55E00\",\"#0072B2\"])\n",
    "#    plt.title(\"Daily Decision Cost Distribution – PtO vs DFL\")\n",
    "#    plt.ylabel(\"Daily Decision Cost (€)\")\n",
    "#    plt.tight_layout()\n",
    "#    plt.show()"
   ],
   "id": "8832a7c3d960dfe6",
   "outputs": [],
   "execution_count": 39
  },
  {
   "metadata": {},
   "cell_type": "markdown",
   "source": "### Cumunalitve decision ",
   "id": "50d3badec6dc35b8"
  },
  {
   "metadata": {
    "ExecuteTime": {
     "end_time": "2025-10-25T19:33:44.646902Z",
     "start_time": "2025-10-25T19:33:15.067042Z"
    }
   },
   "cell_type": "code",
   "outputs": [
    {
     "data": {
      "text/plain": [
       "<Figure size 800x500 with 1 Axes>"
      ],
      "image/png": "[encoded data removed]"
     },
     "metadata": {},
     "output_type": "display_data"
    },
    {
     "name": "stdout",
     "output_type": "stream",
     "text": [
      "DFL cumulative cost reduction: 7.44%\n"
     ]
    }
   ],
   "execution_count": 43,
   "source": [
    "sns.set_style(\"whitegrid\")\n",
    "\n",
    "def make_cumulative_cost(model_pto, model_dfl, layer, test_data, panel_clean, store, cu=3.0, co=1.0):\n",
    "    model_pto.eval()\n",
    "    model_dfl.eval()\n",
    "\n",
    "    B_table = make_budget(panel_clean)\n",
    "    B_val = torch.tensor(float(B_table.loc[store]), dtype=torch.float64)\n",
    "\n",
    "    all_records = []\n",
    "\n",
    "    for model_name, model in [(\"PtO\", model_pto), (\"DFL\", model_dfl)]:\n",
    "        daily_costs = []\n",
    "        dates = []\n",
    "        for Xi, yi, d in test_data:\n",
    "            X_t = torch.tensor(Xi, dtype=torch.float64)\n",
    "            y_t = torch.tensor(yi, dtype=torch.float64)\n",
    "            d_hat = model(X_t).squeeze(-1)\n",
    "            price_vec, cu_vec, co_vec = get_operational_params(panel_clean, store, d, cu, co)\n",
    "            D_t = d_hat.unsqueeze(0)\n",
    "            q_star, = layer(D_t, cu_vec, co_vec, price_vec, B_val)\n",
    "\n",
    "            under = torch.clamp(y_t - q_star, min=0)\n",
    "            over  = torch.clamp(q_star - y_t, min=0)\n",
    "            cost = torch.sum(cu_vec * under + co_vec * over).item()\n",
    "\n",
    "            daily_costs.append(cost)\n",
    "            dates.append(d)\n",
    "\n",
    "        cum_cost = np.cumsum(daily_costs)\n",
    "        all_records.extend(\n",
    "            {\"Date\": pd.to_datetime(dates[i]), \"Model\": model_name, \"Cumulative_Cost\": cum_cost[i]}\n",
    "            for i in range(len(dates))\n",
    "        )\n",
    "\n",
    "    return pd.DataFrame(all_records).sort_values([\"Date\", \"Model\"])\n",
    "\n",
    "def plot_cumulative_cost(df_time):\n",
    "    plt.figure(figsize=(8,5))\n",
    "    sns.lineplot(data=df_time, x=\"Date\", y=\"Cumulative_Cost\", hue=\"Model\", palette=[\"#D55E00\",\"#0072B2\"])\n",
    "    plt.title(\"Cumulative Decision Cost Over Time\")\n",
    "    plt.ylabel(\"Cumulative Cost (€)\")\n",
    "    plt.xlabel(\"Date\")\n",
    "    plt.tight_layout()\n",
    "    plt.show()\n",
    "\n",
    "store = \"CA_1\"\n",
    "df_time = make_cumulative_cost(model_pto, model_dfl, layer, test_data, panel_clean, store)\n",
    "\n",
    "plot_cumulative_cost(df_time)\n",
    "\n",
    "final_pto = df_time.query(\"Model=='PtO'\")[\"Cumulative_Cost\"].iloc[-1]\n",
    "final_dfl = df_time.query(\"Model=='DFL'\")[\"Cumulative_Cost\"].iloc[-1]\n",
    "improvement = 100 * (final_pto - final_dfl) / final_pto\n",
    "print(f\"DFL cumulative cost reduction: {improvement:.2f}%\")"
   ],
   "id": "a7397d0bf1f45a82"
  },
  {
   "metadata": {},
   "cell_type": "markdown",
   "source": "### Sensitivity to c_u / c_o",
   "id": "9e6bd200288111f9"
  },
  {
   "metadata": {
    "ExecuteTime": {
     "end_time": "2025-10-25T19:48:25.321685Z",
     "start_time": "2025-10-25T19:45:38.335963Z"
    }
   },
   "cell_type": "code",
   "source": [
    "\n",
    "sns.set_style(\"whitegrid\")\n",
    "\n",
    "def make_sensitivity_cu_co(models, layer, test_data, panel_clean, store, cu_list=(1, 2, 3, 5, 10), co=1.0):\n",
    "\n",
    "    records = []\n",
    "    for cu in cu_list:\n",
    "        for name, model in models.items():\n",
    "            res = evaluate_decision_quality(model, layer, test_data, panel_clean, store, cu=cu, co=co)\n",
    "            records.append({\n",
    "                \"Model\": name,\n",
    "                \"cu_over_co\": cu / co,\n",
    "                \"cu\": cu,\n",
    "                \"co\": co,\n",
    "                \"Mean_Cost\": float(res[\"mean_cost\"])\n",
    "            })\n",
    "    return pd.DataFrame(records)\n",
    "\n",
    "def plot_sensitivity_cu_co(df_sens):\n",
    "    plt.figure(figsize=(8,5))\n",
    "    ax = sns.lineplot(\n",
    "        data=df_sens,\n",
    "        x=\"cu_over_co\", y=\"Mean_Cost\", hue=\"Model\",\n",
    "        marker=\"o\", linewidth=2\n",
    "    )\n",
    "    ax.set_title(\"Sensitivity of Decision Cost to Underage/Overage Cost Ratio\")\n",
    "    ax.set_xlabel(r\"$c_u / c_o$\")\n",
    "    ax.set_ylabel(\"Mean Decision Cost (€)\")\n",
    "    plt.tight_layout()\n",
    "    plt.show()\n",
    "\n",
    "\n",
    "cu_grid = (1, 2, 3, 5, 10)    \n",
    "co_fixed = 1.0\n",
    "\n",
    "df_sens = make_sensitivity_cu_co(\n",
    "    models=models,\n",
    "    layer=layer,\n",
    "    test_data=test_data,\n",
    "    panel_clean=panel_clean,\n",
    "    store=store,\n",
    "    cu_list=cu_grid,\n",
    "    co=co_fixed\n",
    ")\n",
    "\n",
    "plot_sensitivity_cu_co(df_sens)\n",
    "\n",
    "\n",
    "pt = df_sens.pivot_table(index=\"cu_over_co\", columns=\"Model\", values=\"Mean_Cost\")\n",
    "if {\"PtO\", \"DFL\"}.issubset(pt.columns):\n",
    "    delta_pct = 100.0 * (pt[\"DFL\"] - pt[\"PtO\"]) / pt[\"PtO\"]\n",
    "    summary = pd.DataFrame({\n",
    "        \"cu_over_co\": pt.index.values,\n",
    "        \"Cost_PtO\": pt[\"PtO\"].values,\n",
    "        \"Cost_DFL\": pt[\"DFL\"].values,\n",
    "        \"DeltaCost_%(DFL_vs_PtO)\": delta_pct.values\n",
    "    })\n",
    "    summary = summary.sort_values(\"cu_over_co\").reset_index(drop=True)\n",
    "    print(\"\\nSensitivity summary\")\n",
    "    print(summary.round(3).to_string(index=False))\n",
    "else:\n",
    "    print(\"error\")"
   ],
   "id": "b64379fc8e1052a5",
   "outputs": [
    {
     "data": {
      "text/plain": [
       "<Figure size 800x500 with 1 Axes>"
      ],
      "image/png": "[encoded data removed]"
     },
     "metadata": {},
     "output_type": "display_data"
    },
    {
     "name": "stdout",
     "output_type": "stream",
     "text": [
      "\n",
      "Sensitivity summary (lower cost is better):\n",
      " cu_over_co  Cost_PtO  Cost_DFL  DeltaCost_%(DFL_vs_PtO)\n",
      "        1.0   107.643   110.299                    2.468\n",
      "        2.0   168.059   160.892                   -4.265\n",
      "        3.0   228.482   211.492                   -7.436\n",
      "        5.0   349.315   312.693                  -10.484\n",
      "       10.0   651.415   565.687                  -13.160\n"
     ]
    }
   ],
   "execution_count": 44
  },
  {
   "metadata": {},
   "cell_type": "code",
   "outputs": [],
   "execution_count": null,
   "source": "",
   "id": "e636fc5d2c13b262"
  }
 ],
 "metadata": {
  "kernelspec": {
   "display_name": "Python 3",
   "language": "python",
   "name": "python3"
  },
  "language_info": {
   "codemirror_mode": {
    "name": "ipython",
    "version": 2
   },
   "file_extension": ".py",
   "mimetype": "text/x-python",
   "name": "python",
   "nbconvert_exporter": "python",
   "pygments_lexer": "ipython2",
   "version": "2.7.6"
  }
 },
 "nbformat": 4,
 "nbformat_minor": 5
}
